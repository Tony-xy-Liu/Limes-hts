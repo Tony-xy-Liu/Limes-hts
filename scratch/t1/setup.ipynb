{
 "cells": [
  {
   "cell_type": "code",
   "execution_count": 1,
   "metadata": {},
   "outputs": [
    {
     "name": "stdout",
     "output_type": "stream",
     "text": [
      "setup fabfos >>>>>>>>>>>>>>>>>>>>>>>>>>>>>>>>>>>>>>>>>>>>\n",
      "Building DAG of jobs...\n",
      "Using shell: /usr/bin/bash\n",
      "Provided cores: 1 (use --cores to define parallelism)\n",
      "Rules claiming more threads will be scaled down.\n",
      "Job stats:\n",
      "job            count    min threads    max threads\n",
      "-----------  -------  -------------  -------------\n",
      "get_image          1              1              1\n",
      "singularity        1              1              1\n",
      "total              2              1              1\n",
      "\n",
      "Select jobs to execute...\n",
      "\n",
      "[Sat Feb 18 18:45:32 2023]\n",
      "rule get_image:\n",
      "    output: fabfos.sif\n",
      "    jobid: 1\n",
      "    reason: Missing output files: fabfos.sif\n",
      "    resources: tmpdir=/tmp\n",
      "\n",
      "INFO:    Starting build...\n",
      "Getting image source signatures\n",
      "Copying blob sha256:b410b80e82c0f1cb0893adec0f12a84485032705f9c1c71c94a6268314dffb1d\n",
      "Copying blob sha256:10ac4908093d4325f2c94b2c9a571fa1071a17a72dd9c21c1ffb2c86f68ca028\n",
      "Copying blob sha256:76bb32892a61e2a11250a6964ee9148fd2545835ddf40f088b4d33b647f38853\n",
      "Copying blob sha256:08eaa0b38d39c8b4a3eb5bb0c90902fd02fd5c89649ac2c4815886096b438f3f\n",
      "Copying config sha256:20d736271afa1f32bbfbe2505f0bda9c8520807d21a65c4033fe6d68e3f25335\n",
      "Writing manifest to image destination\n",
      "Storing signatures\n",
      "2023/02/18 18:45:50  info unpack layer: sha256:10ac4908093d4325f2c94b2c9a571fa1071a17a72dd9c21c1ffb2c86f68ca028\n",
      "2023/02/18 18:45:51  info unpack layer: sha256:08eaa0b38d39c8b4a3eb5bb0c90902fd02fd5c89649ac2c4815886096b438f3f\n",
      "2023/02/18 18:45:57  info unpack layer: sha256:b410b80e82c0f1cb0893adec0f12a84485032705f9c1c71c94a6268314dffb1d\n",
      "2023/02/18 18:45:57  info unpack layer: sha256:76bb32892a61e2a11250a6964ee9148fd2545835ddf40f088b4d33b647f38853\n",
      "INFO:    Creating SIF file...\n",
      "INFO:    Build complete: fabfos.sif\n",
      "[Sat Feb 18 18:46:13 2023]\n",
      "Finished job 1.\n",
      "1 of 2 steps (50%) done\n",
      "Select jobs to execute...\n",
      "\n",
      "[Sat Feb 18 18:46:13 2023]\n",
      "localrule singularity:\n",
      "    input: fabfos.sif\n",
      "    jobid: 0\n",
      "    reason: Input files updated by another job: fabfos.sif\n",
      "    resources: tmpdir=/tmp\n",
      "\n",
      "[Sat Feb 18 18:46:13 2023]\n",
      "Finished job 0.\n",
      "2 of 2 steps (100%) done\n",
      "Complete log: .snakemake/log/2023-02-18T184531.842587.snakemake.log\n",
      "\n"
     ]
    }
   ],
   "source": [
    "import limes_x as lx\n",
    "from limes_x import ComputeModule\n",
    "\n",
    "modules = ComputeModule.LoadSet(\"../../submodules/Limes-compute-modules/high_throughput_screening\")\n",
    "wf = lx.Workflow(modules, \"../../data/ref\")\n",
    "wf.Setup('singularity')"
   ]
  }
 ],
 "metadata": {
  "kernelspec": {
   "display_name": "p310",
   "language": "python",
   "name": "python3"
  },
  "language_info": {
   "codemirror_mode": {
    "name": "ipython",
    "version": 3
   },
   "file_extension": ".py",
   "mimetype": "text/x-python",
   "name": "python",
   "nbconvert_exporter": "python",
   "pygments_lexer": "ipython3",
   "version": "3.10.4"
  },
  "orig_nbformat": 4,
  "vscode": {
   "interpreter": {
    "hash": "c8f725649b31326fc0e22e333f2c8850abeadb8c2cc56ac0e5c0ebd2bf29f7a8"
   }
  }
 },
 "nbformat": 4,
 "nbformat_minor": 2
}
