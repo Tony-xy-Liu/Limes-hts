{
 "cells": [
  {
   "cell_type": "code",
   "execution_count": 2,
   "metadata": {},
   "outputs": [
    {
     "name": "stdout",
     "output_type": "stream",
     "text": [
      "setup annotation_dram >>>>>>>>>>>>>>>>>>>>>>>>>>>>>>>>>>>\n",
      "Building DAG of jobs...\n",
      "Using shell: /usr/bin/bash\n",
      "Provided cores: 1 (use --cores to define parallelism)\n",
      "Rules claiming more threads will be scaled down.\n",
      "Job stats:\n",
      "job                count    min threads    max threads\n",
      "---------------  -------  -------------  -------------\n",
      "setup_databases        1              1              1\n",
      "singularity            1              1              1\n",
      "total                  2              1              1\n",
      "\n",
      "Select jobs to execute...\n",
      "\n",
      "[Wed Feb 22 13:54:45 2023]\n",
      "rule setup_databases:\n",
      "    input: dram-annotations.sif, mag_annotator/CONFIG\n",
      "    output: dram_dbs/.mark_complete\n",
      "    jobid: 2\n",
      "    reason: Missing output files: dram_dbs/.mark_complete\n",
      "    resources: tmpdir=/tmp\n",
      "\n",
      "INFO:    Converting SIF file to temporary sandbox...\n",
      "WARNING: underlay of /etc/localtime required more than 50 (69) bind mounts\n",
      "usage: DRAM-setup.py [-h]\n",
      "                     {version,prepare_databases,set_database_locations,mv_db_folder,update_description_db,update_dram_forms,print_config,print_settings,import_config,export_config}\n",
      "                     ...\n",
      "DRAM-setup.py: error: unrecognized arguments: --skipd_uniref\n",
      "INFO:    Cleaning up image...\n",
      "[Wed Feb 22 13:54:47 2023]\n",
      "Error in rule setup_databases:\n",
      "    jobid: 2\n",
      "    input: dram-annotations.sif, mag_annotator/CONFIG\n",
      "    output: dram_dbs/.mark_complete\n",
      "    shell:\n",
      "        \n",
      "        singularity run -B ./dram_dbs:/ref,./:/ws,./mag_annotator:/opt/conda/envs/dram/lib/python3.10/site-packages/mag_annotator dram-annotations.sif             DRAM-setup.py prepare_databases --threads 1 --skipd_uniref --output_dir /ref         && touch dram_dbs/.mark_complete\n",
      "        \n",
      "        (one of the commands exited with non-zero exit code; note that snakemake uses bash strict mode!)\n",
      "\n",
      "Shutting down, this might take some time.\n",
      "Exiting because a job execution failed. Look above for error message\n",
      "Complete log: .snakemake/log/2023-02-22T135445.015140.snakemake.log\n",
      "\n",
      "setup fabfos >>>>>>>>>>>>>>>>>>>>>>>>>>>>>>>>>>>>>>>>>>>>\n",
      "Building DAG of jobs...\n",
      "Nothing to be done (all requested files are present and up to date).\n",
      "Complete log: .snakemake/log/2023-02-22T135447.846029.snakemake.log\n",
      "\n"
     ]
    }
   ],
   "source": [
    "import limes_x as lx\n",
    "from limes_x import ComputeModule\n",
    "\n",
    "modules = ComputeModule.LoadSet(\"../../submodules/Limes-compute-modules/high_throughput_screening\")\n",
    "wf = lx.Workflow(modules, \"../../data/ref\")\n",
    "wf.Setup('singularity')"
   ]
  }
 ],
 "metadata": {
  "kernelspec": {
   "display_name": "p310",
   "language": "python",
   "name": "python3"
  },
  "language_info": {
   "codemirror_mode": {
    "name": "ipython",
    "version": 3
   },
   "file_extension": ".py",
   "mimetype": "text/x-python",
   "name": "python",
   "nbconvert_exporter": "python",
   "pygments_lexer": "ipython3",
   "version": "3.10.4"
  },
  "orig_nbformat": 4,
  "vscode": {
   "interpreter": {
    "hash": "c8f725649b31326fc0e22e333f2c8850abeadb8c2cc56ac0e5c0ebd2bf29f7a8"
   }
  }
 },
 "nbformat": 4,
 "nbformat_minor": 2
}
