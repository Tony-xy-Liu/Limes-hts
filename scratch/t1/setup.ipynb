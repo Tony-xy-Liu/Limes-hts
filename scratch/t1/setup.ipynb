{
 "cells": [
  {
   "cell_type": "code",
   "execution_count": 6,
   "metadata": {},
   "outputs": [
    {
     "name": "stdout",
     "output_type": "stream",
     "text": [
      "setup fosmid_walk >>>>>>>>>>>>>>>>>>>>>>>>>>>>>>>>>>>>>>>\n",
      "Building DAG of jobs...\n",
      "Using shell: /usr/bin/bash\n",
      "Provided cores: 1 (use --cores to define parallelism)\n",
      "Rules claiming more threads will be scaled down.\n",
      "Job stats:\n",
      "job            count    min threads    max threads\n",
      "-----------  -------  -------------  -------------\n",
      "get_image          1              1              1\n",
      "singularity        1              1              1\n",
      "total              2              1              1\n",
      "\n",
      "Select jobs to execute...\n",
      "\n",
      "[Mon Mar 20 13:41:48 2023]\n",
      "rule get_image:\n",
      "    output: foswalk.sif\n",
      "    jobid: 1\n",
      "    reason: Missing output files: foswalk.sif\n",
      "    resources: tmpdir=/tmp\n",
      "\n",
      "INFO:    Starting build...\n",
      "Getting image source signatures\n",
      "Copying blob sha256:74ac377868f863e123f24c409f79709f7563fa464557c36a09cf6f85c8b92b7f\n",
      "Copying blob sha256:b410b80e82c0f1cb0893adec0f12a84485032705f9c1c71c94a6268314dffb1d\n",
      "Copying blob sha256:bfad30193405bad75b04c0bea7dd575e8e9dfc7cab5a94fdf59fe37092c93a5a\n",
      "Copying blob sha256:5fd5ee89d446982dfdeb8f3a2ab86eddfca91cd85b54fbc260aec036dc86ed86\n",
      "Copying blob sha256:68c58ed34b6ffad4db2d95ba569e06b6ca18b75b683e98d46a93f0a25d47fed9\n",
      "Copying config sha256:e2afbc4dbc97faa2d99774d4a1fc0a77953b22be21e41412c8dc9952e8418173\n",
      "Writing manifest to image destination\n",
      "Storing signatures\n",
      "2023/03/20 13:41:56  info unpack layer: sha256:74ac377868f863e123f24c409f79709f7563fa464557c36a09cf6f85c8b92b7f\n",
      "2023/03/20 13:41:56  info unpack layer: sha256:b410b80e82c0f1cb0893adec0f12a84485032705f9c1c71c94a6268314dffb1d\n",
      "2023/03/20 13:41:56  info unpack layer: sha256:5fd5ee89d446982dfdeb8f3a2ab86eddfca91cd85b54fbc260aec036dc86ed86\n",
      "2023/03/20 13:41:58  info unpack layer: sha256:68c58ed34b6ffad4db2d95ba569e06b6ca18b75b683e98d46a93f0a25d47fed9\n",
      "2023/03/20 13:41:58  info unpack layer: sha256:bfad30193405bad75b04c0bea7dd575e8e9dfc7cab5a94fdf59fe37092c93a5a\n",
      "INFO:    Creating SIF file...\n",
      "INFO:    Build complete: foswalk.sif\n",
      "[Mon Mar 20 13:42:05 2023]\n",
      "Finished job 1.\n",
      "1 of 2 steps (50%) done\n",
      "Select jobs to execute...\n",
      "\n",
      "[Mon Mar 20 13:42:05 2023]\n",
      "localrule singularity:\n",
      "    input: foswalk.sif\n",
      "    jobid: 0\n",
      "    reason: Input files updated by another job: foswalk.sif\n",
      "    resources: tmpdir=/tmp\n",
      "\n",
      "[Mon Mar 20 13:42:05 2023]\n",
      "Finished job 0.\n",
      "2 of 2 steps (100%) done\n",
      "Complete log: .snakemake/log/2023-03-20T134148.542482.snakemake.log\n",
      "\n",
      "setup fabfos >>>>>>>>>>>>>>>>>>>>>>>>>>>>>>>>>>>>>>>>>>>>\n",
      "Building DAG of jobs...\n",
      "Nothing to be done (all requested files are present and up to date).\n",
      "Complete log: .snakemake/log/2023-03-20T134205.657602.snakemake.log\n",
      "\n"
     ]
    },
    {
     "name": "stdout",
     "output_type": "stream",
     "text": [
      "2023-03-20 13:55:50,385 - Downloading pfam_hmm\n",
      "2023-03-20 13:55:52,937 - Downloading dbcan\n",
      "2023-03-20 13:55:58,016 - Downloading dbcan_fam_activities\n",
      "2023-03-20 13:55:58,016 - Downloading dbCAN family activities from : https://bcb.unl.edu/dbCAN2/download/Databases/V11/CAZyDB.08062022.fam-activities.txt\n",
      "2023-03-20 13:55:58,379 - Downloading dbcan_subfam_ec\n",
      "2023-03-20 13:55:58,379 - Downloading dbCAN sub-family encumber from : https://bcb.unl.edu/dbCAN2/download/Databases/V11/CAZyDB.08062022.fam.subfam.ec.txt\n",
      "2023-03-20 13:55:58,936 - Downloading vogdb\n",
      "\r"
     ]
    }
   ],
   "source": [
    "import limes_x as lx\n",
    "from limes_x import ComputeModule\n",
    "\n",
    "modules = ComputeModule.LoadSet(\"../../submodules/Limes-compute-modules/high_throughput_screening\")\n",
    "modules = [m for m in modules if \"dram\" not in m.name]\n",
    "wf = lx.Workflow(modules, \"../../data/ref\")\n",
    "wf.Setup('singularity')"
   ]
  },
  {
   "cell_type": "code",
   "execution_count": 9,
   "metadata": {},
   "outputs": [
    {
     "data": {
      "text/plain": [
       "'/home/tony/workspace/grad/Limes-hts/submodules/Limes-compute-modules/high_throughput_screening/fosmid_walk/setup'"
      ]
     },
     "execution_count": 9,
     "metadata": {},
     "output_type": "execute_result"
    },
    {
     "name": "stdout",
     "output_type": "stream",
     "text": [
      "2023-03-20 13:57:40,010 - Downloading genome_summary_form\n",
      "2023-03-20 13:57:40,378 - Downloading module_step_form\n",
      "2023-03-20 13:57:40,773 - Downloading function_heatmap_form\n",
      "2023-03-20 13:57:40,990 - Downloading amg_database\n",
      "2023-03-20 13:57:41,200 - Downloading etc_module_database\n",
      "2023-03-20 13:57:41,445 - All raw data files were downloaded successfully\n",
      "2023-03-20 13:57:41,445 - Processing kofam_hmm\n",
      "2023-03-20 13:59:47,706 - KOfam database processed\n",
      "2023-03-20 13:59:47,720 - Moved kofam_hmm to final destination, configuration updated\n",
      "2023-03-20 13:59:47,720 - Processing kofam_ko_list\n",
      "2023-03-20 13:59:47,742 - KOfam ko list processed\n",
      "2023-03-20 13:59:47,742 - Moved kofam_ko_list to final destination, configuration updated\n",
      "2023-03-20 13:59:47,742 - Processing pfam\n",
      "2023-03-20 14:05:01,061 - The subcommand ['mmseqs', 'convertmsa', '/ref/database_files/Pfam-A.full.gz', '/ref/pfam.mmsmsa'] experienced an error: Can not write to data file /ref/pfam.mmsmsa.0\n",
      "\n",
      "Traceback (most recent call last):\n",
      "  File \"/opt/conda/envs/dram/bin/DRAM-setup.py\", line 184, in <module>\n",
      "    args.func(**args_dict)\n",
      "  File \"/home/tony/workspace/grad/Limes-hts/data/ref/mag_annotator/database_processing.py\", line 555, in prepare_databases\n",
      "    processed_locs = process_functions[i](locs[i], output_dir, LOGGER, \n",
      "  File \"/home/tony/workspace/grad/Limes-hts/data/ref/mag_annotator/database_processing.py\", line 282, in process_pfam\n",
      "    pfam_profile = process_mmspro(pfam_full_zipped, output_dir, logger, 'pfam', threads, verbose)\n",
      "  File \"/home/tony/workspace/grad/Limes-hts/data/ref/mag_annotator/database_processing.py\", line 269, in process_mmspro\n",
      "    run_process(['mmseqs', 'convertmsa', full_alignment, mmseqs_msa], logger, verbose=verbose)\n",
      "  File \"/home/tony/workspace/grad/Limes-hts/data/ref/mag_annotator/utils.py\", line 71, in run_process\n",
      "    raise subprocess.SubprocessError(f\"The subcommand {' '.join(command)} experienced an error, see the log for more info.\")\n",
      "subprocess.SubprocessError: The subcommand mmseqs convertmsa /ref/database_files/Pfam-A.full.gz /ref/pfam.mmsmsa experienced an error, see the log for more info.\n",
      "INFO:    Cleaning up image...\n",
      "[Mon Mar 20 14:05:21 2023]\n",
      "Error in rule setup_databases:\n",
      "    jobid: 2\n",
      "    input: dram-annotations.sif, mag_annotator/CONFIG\n",
      "    output: dram_dbs/.mark_complete\n",
      "    shell:\n",
      "        \n",
      "        singularity run -B ./dram_dbs:/ref,./:/ws,./mag_annotator:/opt/conda/envs/dram/lib/python3.10/site-packages/mag_annotator dram-annotations.sif             DRAM-setup.py prepare_databases --threads 1 --skip_uniref --output_dir /ref         && touch dram_dbs/.mark_complete\n",
      "        \n",
      "        (one of the commands exited with non-zero exit code; note that snakemake uses bash strict mode!)\n",
      "\n",
      "Shutting down, this might take some time.\n",
      "Exiting because a job execution failed. Look above for error message\n",
      "Complete log: .snakemake/log/2023-03-20T132724.452095.snakemake.log\n",
      "\r"
     ]
    }
   ],
   "source": [
    "import os\n",
    "from pathlib import Path\n",
    "\n",
    "p =Path(\"/home/tony/workspace/grad/Limes-hts/submodules/Limes-compute-modules/high_throughput_screening/fosmid_walk/setup/setup.smk\")\n",
    "\n",
    "os.path.dirname(p)"
   ]
  }
 ],
 "metadata": {
  "kernelspec": {
   "display_name": "p310",
   "language": "python",
   "name": "python3"
  },
  "language_info": {
   "codemirror_mode": {
    "name": "ipython",
    "version": 3
   },
   "file_extension": ".py",
   "mimetype": "text/x-python",
   "name": "python",
   "nbconvert_exporter": "python",
   "pygments_lexer": "ipython3",
   "version": "3.10.4"
  },
  "orig_nbformat": 4,
  "vscode": {
   "interpreter": {
    "hash": "c8f725649b31326fc0e22e333f2c8850abeadb8c2cc56ac0e5c0ebd2bf29f7a8"
   }
  }
 },
 "nbformat": 4,
 "nbformat_minor": 2
}
