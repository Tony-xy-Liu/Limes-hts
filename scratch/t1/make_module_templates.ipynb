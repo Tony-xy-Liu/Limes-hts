{
 "cells": [
  {
   "cell_type": "code",
   "execution_count": 1,
   "metadata": {},
   "outputs": [],
   "source": [
    "from limes_x import ModuleBuilder"
   ]
  },
  {
   "cell_type": "code",
   "execution_count": 2,
   "metadata": {},
   "outputs": [
    {
     "data": {
      "text/plain": [
       "<m:fabfos>"
      ]
     },
     "execution_count": 2,
     "metadata": {},
     "output_type": "execute_result"
    }
   ],
   "source": [
    "modules_folder = \"../../submodules/Limes-compute-modules/high_throughput_screening\"\n",
    "ModuleBuilder.GenerateTemplate(modules_folder, \"fabfos\", on_exist=\"skip\")"
   ]
  }
 ],
 "metadata": {
  "kernelspec": {
   "display_name": "p311",
   "language": "python",
   "name": "python3"
  },
  "language_info": {
   "codemirror_mode": {
    "name": "ipython",
    "version": 3
   },
   "file_extension": ".py",
   "mimetype": "text/x-python",
   "name": "python",
   "nbconvert_exporter": "python",
   "pygments_lexer": "ipython3",
   "version": "3.11.0"
  },
  "orig_nbformat": 4,
  "vscode": {
   "interpreter": {
    "hash": "8f652547db4d17d6eeec41a4f37c167557db91fa388bc71de420bb5e3fb7eb5e"
   }
  }
 },
 "nbformat": 4,
 "nbformat_minor": 2
}
